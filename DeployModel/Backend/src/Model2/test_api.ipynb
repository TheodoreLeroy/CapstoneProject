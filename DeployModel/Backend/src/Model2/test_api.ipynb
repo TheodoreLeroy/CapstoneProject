{
 "cells": [
  {
   "cell_type": "code",
   "execution_count": null,
   "metadata": {},
   "outputs": [
    {
     "ename": "",
     "evalue": "",
     "output_type": "error",
     "traceback": [
      "\u001b[1;31mFailed to start the Kernel. \n",
      "\u001b[1;31mBad file descriptor (C:\\Users\\runneradmin\\AppData\\Local\\Temp\\tmpesk5tyzp\\build\\_deps\\bundled_libzmq-src\\src\\epoll.cpp:73). \n",
      "\u001b[1;31mView Jupyter <a href='command:jupyter.viewOutput'>log</a> for further details."
     ]
    }
   ],
   "source": [
    "import requests\n",
    "import numpy as np\n",
    "from PIL import Image, ImageDraw\n",
    "import io\n",
    "import matplotlib.pyplot as plt\n",
    "\n",
    "def test_and_draw_api():\n",
    "    # API endpoint\n",
    "    url = \"http://127.0.0.1:5001/process_image\"\n",
    "\n",
    "    # Path to your test image\n",
    "    image_path = \"2.jpg\"\n",
    "\n",
    "    # Open and prepare the image\n",
    "    with open(image_path, \"rb\") as image_file:\n",
    "        files = {\"image\": (\"test_image.jpg\", image_file, \"image/jpeg\")}\n",
    "\n",
    "        # Send POST request to the API\n",
    "        response = requests.post(url, files=files)\n",
    "\n",
    "    # Check if the request was successful\n",
    "    if response.status_code == 200:\n",
    "        print(\"API request successful\")\n",
    "        data = response.json()\n",
    "        \n",
    "        # Print the received data\n",
    "        print(\"Received boxes:\", data['boxes'])\n",
    "        print(\"Received embeddings shape:\", [len(emb) for emb in data['embeddings']])\n",
    "\n",
    "        # Open the original image for drawing\n",
    "        image = Image.open(image_path)\n",
    "        draw = ImageDraw.Draw(image)\n",
    "\n",
    "        # Draw bounding boxes\n",
    "        for box in data['boxes']:\n",
    "            x1, x2, y1, y2 = box\n",
    "            draw.rectangle([x1, y1, x2, y2], outline=\"red\", width=2)\n",
    "\n",
    "        # Display the image with bounding boxes\n",
    "        plt.figure(figsize=(12, 8))\n",
    "        plt.imshow(np.array(image))\n",
    "        plt.axis('off')\n",
    "        plt.title(\"Detected Faces\")\n",
    "        plt.show()\n",
    "\n",
    "    else:\n",
    "        print(f\"API request failed with status code: {response.status_code}\")\n",
    "        print(f\"Error message: {response.text}\")\n",
    "\n",
    "if __name__ == \"__main__\":\n",
    "    test_and_draw_api()"
   ]
  }
 ],
 "metadata": {
  "kernelspec": {
   "display_name": "venv",
   "language": "python",
   "name": "python3"
  },
  "language_info": {
   "codemirror_mode": {
    "name": "ipython",
    "version": 3
   },
   "file_extension": ".py",
   "mimetype": "text/x-python",
   "name": "python",
   "nbconvert_exporter": "python",
   "pygments_lexer": "ipython3",
   "version": "3.10.11"
  }
 },
 "nbformat": 4,
 "nbformat_minor": 2
}
